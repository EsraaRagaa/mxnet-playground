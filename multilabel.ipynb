{
 "cells": [
  {
   "cell_type": "code",
   "execution_count": 2,
   "metadata": {
    "collapsed": false
   },
   "outputs": [],
   "source": [
    "%autoreload 2\n",
    "import mxnet as mx\n",
    "import pickle as pkl\n",
    "import voc_utils.voc_utils as voc"
   ]
  },
  {
   "cell_type": "code",
   "execution_count": null,
   "metadata": {
    "collapsed": false
   },
   "outputs": [],
   "source": [
    "# use params from googlenet, but train for multilabel\n",
    "# using pascal voc\n",
    "df = voc.load_data_multilabel('train')\n",
    "# df['filename'] = voc.img_dir + df['filename']\n",
    "df['filename'] += '.jpg'\n",
    "# true_outputs = df.loc[:, 'aeroplane':'tvmonitor'].values\n",
    "print df.columns\n",
    "print voc.img_dir\n",
    "print len(voc.list_image_sets())"
   ]
  },
  {
   "cell_type": "code",
   "execution_count": 7,
   "metadata": {
    "collapsed": false
   },
   "outputs": [
    {
     "name": "stdout",
     "output_type": "stream",
     "text": [
      "Index([u'filename', u'aeroplane', u'bicycle', u'bird', u'boat', u'bottle',\n",
      "       u'bus', u'car', u'cat', u'chair', u'cow', u'diningtable', u'dog',\n",
      "       u'horse', u'motorbike', u'person', u'pottedplant', u'sheep', u'sofa',\n",
      "       u'train', u'tvmonitor'],\n",
      "      dtype='object')\n",
      "/Users/mprat/personal/VOCdevkit/VOCdevkit/VOC2012/JPEGImages/\n",
      "20\n"
     ]
    }
   ],
   "source": [
    "# use params from googlenet, but train for multilabel\n",
    "# using pascal voc\n",
    "df = voc.load_data_multilabel('val')\n",
    "# df['filename'] = voc.img_dir + df['filename']\n",
    "df['filename'] += '.jpg'\n",
    "# true_outputs = df.loc[:, 'aeroplane':'tvmonitor'].values\n",
    "print df.columns\n",
    "print voc.img_dir\n",
    "print len(voc.list_image_sets())"
   ]
  },
  {
   "cell_type": "code",
   "execution_count": null,
   "metadata": {
    "collapsed": true
   },
   "outputs": [],
   "source": [
    "# make the data iter that can be used for training\n",
    "df.to_csv('voc_train.lst', sep='\\t', header=False, columns=['aeroplane', 'bicycle', 'bird', 'boat', 'bottle',\n",
    "       'bus', 'car', 'cat', 'chair', 'cow', 'diningtable', 'dog',\n",
    "       'horse', 'motorbike', 'person', 'pottedplant', 'sheep', 'sofa',\n",
    "       'train', 'tvmonitor', 'filename'])"
   ]
  },
  {
   "cell_type": "code",
   "execution_count": 8,
   "metadata": {
    "collapsed": true
   },
   "outputs": [],
   "source": [
    "# make the data iter that can be used for training\n",
    "df.to_csv('voc_val.lst', sep='\\t', header=False, columns=['aeroplane', 'bicycle', 'bird', 'boat', 'bottle',\n",
    "       'bus', 'car', 'cat', 'chair', 'cow', 'diningtable', 'dog',\n",
    "       'horse', 'motorbike', 'person', 'pottedplant', 'sheep', 'sofa',\n",
    "       'train', 'tvmonitor', 'filename'])"
   ]
  },
  {
   "cell_type": "code",
   "execution_count": null,
   "metadata": {
    "collapsed": false
   },
   "outputs": [],
   "source": [
    "!./../mxnet/bin/im2rec voc_train.lst /Users/mprat/personal/VOCdevkit/VOCdevkit/VOC2012/JPEGImages/ voc_train.rec resize=200, label_width=20"
   ]
  },
  {
   "cell_type": "code",
   "execution_count": 9,
   "metadata": {
    "collapsed": false
   },
   "outputs": [
    {
     "name": "stdout",
     "output_type": "stream",
     "text": [
      "[14:17:46] tools/im2rec.cc:54: New Image Size: Short Edge 200\n",
      "[14:17:46] tools/im2rec.cc:76: Write to output: voc_val.rec\n",
      "[14:17:46] tools/im2rec.cc:78: Output: voc_val.rec\n",
      "[14:17:46] tools/im2rec.cc:86: JPEG encoding quality: 80\n",
      "[14:17:55] tools/im2rec.cc:157: 1000 images processed, 9.55097 sec elapsed\n",
      "[14:18:05] tools/im2rec.cc:157: 2000 images processed, 19.4967 sec elapsed\n",
      "[14:18:16] tools/im2rec.cc:157: 3000 images processed, 29.5878 sec elapsed\n",
      "[14:18:26] tools/im2rec.cc:157: 4000 images processed, 39.6302 sec elapsed\n",
      "[14:18:36] tools/im2rec.cc:157: 5000 images processed, 49.6172 sec elapsed\n",
      "[14:18:44] tools/im2rec.cc:160: Total: 5823 images processed, 58.0862 sec elapsed\n"
     ]
    }
   ],
   "source": [
    "!./../mxnet/bin/im2rec voc_val.lst /Users/mprat/personal/VOCdevkit/VOCdevkit/VOC2012/JPEGImages/ voc_val.rec resize=200, label_width=20"
   ]
  },
  {
   "cell_type": "code",
   "execution_count": null,
   "metadata": {
    "collapsed": false
   },
   "outputs": [],
   "source": [
    "imgs = voc.load_imgs(df['filename'])"
   ]
  },
  {
   "cell_type": "code",
   "execution_count": 3,
   "metadata": {
    "collapsed": false
   },
   "outputs": [],
   "source": [
    "dataiter = mx.io.ImageRecordIter(\n",
    "    path_imgrec='voc_train.rec',\n",
    "    data_shape=(3, 200, 200),\n",
    "    path_imglist='voc_train.lst',\n",
    "    label_width=len(voc.list_image_sets()),\n",
    "    shuffle=True,\n",
    "    batch_size=20)"
   ]
  },
  {
   "cell_type": "code",
   "execution_count": 10,
   "metadata": {
    "collapsed": true
   },
   "outputs": [],
   "source": [
    "datavaliter = mx.io.ImageRecordIter(\n",
    "    path_imgrec='voc_val.rec',\n",
    "    data_shape=(3, 200, 200),\n",
    "    path_imglist='voc_val.lst',\n",
    "    label_width=len(voc.list_image_sets()),\n",
    "    shuffle=True,\n",
    "    batch_size=20)"
   ]
  },
  {
   "cell_type": "code",
   "execution_count": 5,
   "metadata": {
    "collapsed": false
   },
   "outputs": [],
   "source": [
    "# create multilabel net and train from scratch\n",
    "input_data = mx.symbol.Variable('data')\n",
    "conv1 = mx.symbol.Convolution(data=input_data, name='conv1', kernel=(20, 20), stride=(20, 20), pad=(0, 0), num_filter=100)\n",
    "relu1 = mx.symbol.Activation(data=conv1, name='relu1', act_type='relu')\n",
    "top_pool = mx.symbol.Pooling(data=relu1, pool_type='max', kernel=(5, 1), stride=(2, 2), pad=(0, 0))\n",
    "out = mx.symbol.SoftmaxOutput(data=top_pool, name='softmax', multi_output=True)\n",
    "net = mx.model.FeedForward(symbol=out, num_epoch=2, learning_rate=0.01)\n",
    "net.fit(X=dataiter, eval_data=datavaliter)"
   ]
  },
  {
   "cell_type": "code",
   "execution_count": null,
   "metadata": {
    "collapsed": true
   },
   "outputs": [],
   "source": []
  }
 ],
 "metadata": {
  "kernelspec": {
   "display_name": "Python 2",
   "language": "python",
   "name": "python2"
  },
  "language_info": {
   "codemirror_mode": {
    "name": "ipython",
    "version": 2
   },
   "file_extension": ".py",
   "mimetype": "text/x-python",
   "name": "python",
   "nbconvert_exporter": "python",
   "pygments_lexer": "ipython2",
   "version": "2.7.10"
  }
 },
 "nbformat": 4,
 "nbformat_minor": 0
}
